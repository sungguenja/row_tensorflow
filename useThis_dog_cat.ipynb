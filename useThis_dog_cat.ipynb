{
 "cells": [
  {
   "cell_type": "code",
   "execution_count": null,
   "metadata": {},
   "outputs": [],
   "source": [
    "from tensorflow.compat.v2.keras.models import model_from_json\n",
    "\n",
    "# json 파일 열기\n",
    "json_file = open('CNN_dog_cat_model.json','r')\n",
    "loaded_model_json = json_file.read()\n",
    "json_file.close()\n",
    "\n",
    "# json 파일로부터 model 로드하기\n",
    "loaded_model = model_from_json(loaded_model_json)\n",
    "\n",
    "# 로드한 model에 weight 로드하기\n",
    "loaded_model.load_weights('CNN_dog_cat_model.h5')"
   ]
  },
  {
   "cell_type": "code",
   "execution_count": null,
   "metadata": {},
   "outputs": [],
   "source": [
    "# 모델 컴파일\n",
    "loaded_model.compile(optimizer='adam',\n",
    "                    loss='sparse_categorical_crossentropy',\n",
    "                    metrics=['accuracy'])\n",
    "\n",
    "# 모델 요약\n",
    "loaded_model.summary()\n",
    "\n",
    "# # 모델 evaluation\n",
    "# test_loss, test_acc = loaded_model.evaluate(test_X,test_y)\n",
    "# print('Accuracy : {} %'.format(test_acc*100))"
   ]
  },
  {
   "cell_type": "code",
   "execution_count": null,
   "metadata": {},
   "outputs": [],
   "source": [
    "# 필요한 패키지 import\n",
    "import numpy as np\n",
    "import pandas as pd\n",
    "from tensorflow.keras.preprocessing.image import ImageDataGenerator, load_img\n",
    "from tensorflow.keras.utils import to_categorical\n",
    "from sklearn.model_selection import train_test_split\n",
    "import matplotlib.pyplot as plt\n",
    "import random\n",
    "import os"
   ]
  },
  {
   "cell_type": "code",
   "execution_count": null,
   "metadata": {},
   "outputs": [],
   "source": [
    "# 글로벌 변수 선언\n",
    "FAST_RUN = False\n",
    "IMAGE_WIDTH = 128\n",
    "IMAGE_HEIGHT = 128\n",
    "IMAGE_SIZE = (IMAGE_WIDTH,IMAGE_HEIGHT)\n",
    "IMAGE_CHANNELS = 3 # 컬러 사진이므로 채널이 3(rgb)\n",
    "batch_size = 15"
   ]
  },
  {
   "cell_type": "code",
   "execution_count": null,
   "metadata": {},
   "outputs": [],
   "source": [
    "file_dir = './dogvscat/test1/'\n",
    "# Test를 해보장\n",
    "test_filenames = ['21.jpg']\n",
    "\n",
    "test_df = pd.DataFrame({\n",
    "    'filename':test_filenames\n",
    "})\n",
    "nb_samples = test_df.shape[0]\n",
    "\n",
    "test_gen = ImageDataGenerator(rescale=1./255)\n",
    "test_generator = test_gen.flow_from_dataframe(\n",
    "    test_df,\n",
    "    file_dir,\n",
    "    x_col='filename',\n",
    "    y_col=None,\n",
    "    target_size=IMAGE_SIZE,\n",
    "    class_mode=None,\n",
    "    batch_size=batch_size,\n",
    "    shuffle=False\n",
    ")\n",
    "\n",
    "# 모델 예측\n",
    "predict = loaded_model.predict_generator(test_generator,steps=np.ceil(nb_samples/batch_size))\n",
    "print(predict)"
   ]
  },
  {
   "cell_type": "code",
   "execution_count": null,
   "metadata": {},
   "outputs": [],
   "source": [
    "# 평가 생성\n",
    "# 확률이 큰 걸로 라벨을 붙여준다\n",
    "test_df['category'] = np.argmax(predict,axis=-1)\n",
    "\n",
    "# 레이블 변환\n",
    "# 평가를 위해서 dog,cat으로 있던걸 다시 1,0으로 변환\n",
    "print(test_df['category'])\n",
    "test_df['category'] = test_df['category'].replace({1:'dog',0:'cat'})\n",
    "# reverse_answer = {0: 'Egyptian_Mau', 1: 'japanese_chin', 2: 'keeshond', 3: 'pug', 4: 'Maine_Coon', 5: 'yorkshire_terrier', 6: 'scottish_terrier', 7: 'shiba_inu', 8: 'havanese', 9: 'Bengal', 10: 'Abyssinian', 11: 'Birman', 12: 'Ragdoll', 13: 'Bombay', 14: 'samoyed', 15: 'german_shorthaired', 16: 'english_cocker_spaniel', 17: 'boxer', 18: 'Siamese', 19: 'american_bulldog', 20: 'British_Shorthair', 21: 'english_setter', 22: 'pomeranian', 23: 'basset_hound', 24: 'wheaten_terrier', 25: 'Russian_Blue', 26: 'beagle', 27: 'american_pit_bull_terrier', 28: 'newfoundland', 29: 'Sphynx', 30: 'staffordshire_bull_terrier', 31: 'miniature_pinscher', 32: 'saint_bernard', 33: 'Persian', 34: 'chihuahua', 35: 'great_pyrenees', 36: 'leonberger', 37: 'Abyssinian_101.mat_', 38: 'Abyssinian_102.mat_', 39: 'Abyssinian_100.mat_'}\n",
    "# 정답 확인!\n",
    "# 강아지는 1 고양이는 0 이다\n",
    "sample_test = test_df.head(18)\n",
    "print(sample_test.head())\n",
    "plt.figure(figsize=(12,24))\n",
    "for index, row in sample_test.iterrows():\n",
    "    filename = row['filename']\n",
    "    img = load_img(file_dir+filename,target_size=IMAGE_SIZE)\n",
    "    plt.subplot(6,3,index+1)\n",
    "    plt.imshow(img)\n",
    "    plt.xlabel(filename + '(' + '{}'.format(row) + ')')\n",
    "plt.tight_layout()\n",
    "plt.show()"
   ]
  }
 ],
 "metadata": {
  "kernelspec": {
   "display_name": "Python 3",
   "language": "python",
   "name": "python3"
  },
  "language_info": {
   "codemirror_mode": {
    "name": "ipython",
    "version": 3
   },
   "file_extension": ".py",
   "mimetype": "text/x-python",
   "name": "python",
   "nbconvert_exporter": "python",
   "pygments_lexer": "ipython3",
   "version": "3.7.6"
  }
 },
 "nbformat": 4,
 "nbformat_minor": 4
}
